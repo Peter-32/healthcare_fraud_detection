{
 "cells": [
  {
   "cell_type": "code",
   "execution_count": 2,
   "id": "2938a12f",
   "metadata": {},
   "outputs": [],
   "source": [
    "import pandas as pd\n",
    "from glob import glob\n",
    "\n",
    "df1 = pd.read_csv(\"../../data/raw\\placeholder.txt\")\n",
    "df2 = pd.read_csv(\"../../data/raw\\Test-1542969243754.csv\")\n",
    "df3 = pd.read_csv(\"../../data/raw\\Test_Beneficiarydata-1542969243754.csv\")\n",
    "df4 = pd.read_csv(\"../../data/raw\\Test_Inpatientdata-1542969243754.csv\")\n",
    "df5 = pd.read_csv(\"../../data/raw\\Test_Outpatientdata-1542969243754.csv\")\n",
    "df6 = pd.read_csv(\"../../data/raw\\Train-1542865627584.csv\")\n",
    "df7 = pd.read_csv(\"../../data/raw\\Train_Beneficiarydata-1542865627584.csv\")\n",
    "df8 = pd.read_csv(\"../../data/raw\\Train_Inpatientdata-1542865627584.csv\")\n",
    "df9 = pd.read_csv(\"../../data/raw\\Train_Outpatientdata-1542865627584.csv\")"
   ]
  },
  {
   "cell_type": "code",
   "execution_count": null,
   "id": "8b36851b",
   "metadata": {},
   "outputs": [],
   "source": []
  }
 ],
 "metadata": {
  "kernelspec": {
   "display_name": "Python 3 (ipykernel)",
   "language": "python",
   "name": "python3"
  },
  "language_info": {
   "codemirror_mode": {
    "name": "ipython",
    "version": 3
   },
   "file_extension": ".py",
   "mimetype": "text/x-python",
   "name": "python",
   "nbconvert_exporter": "python",
   "pygments_lexer": "ipython3",
   "version": "3.9.13"
  }
 },
 "nbformat": 4,
 "nbformat_minor": 5
}
